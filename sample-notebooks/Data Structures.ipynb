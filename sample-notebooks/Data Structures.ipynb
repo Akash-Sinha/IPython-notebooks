{
 "cells": [
  {
   "cell_type": "markdown",
   "metadata": {},
   "source": [
    "# Introduction"
   ]
  },
  {
   "cell_type": "markdown",
   "metadata": {},
   "source": [
    "To understand how various data structures work. To understand some important applictions of various data structures. To familiarize how certain applications can benefit from the choice of data structures. To understand how the choice of data structures can lead to efficient implementations of algorithms. "
   ]
  },
  {
   "cell_type": "markdown",
   "metadata": {},
   "source": [
    "# List of Experiments"
   ]
  },
  {
   "cell_type": "markdown",
   "metadata": {},
   "source": [
    "## 1.Number Systems"
   ]
  },
  {
   "cell_type": "markdown",
   "metadata": {},
   "source": [
    "### Introduction"
   ]
  },
  {
   "cell_type": "markdown",
   "metadata": {},
   "source": [
    "Since ancient times, the ability to represent numbers and perform arithmetic operations on numbers played an important role. Hence, it is interesting to study how different representation formats impact the number representation and operations. In this experiment, we study the efficacy of various number representation formats. The central message of this experiment is to appreciate that something that is as common as operating on numbers has an embedded data structure lesson. In this experiment, we will first understand how operations such as addition and multiplication can be done in various formats. We focus on four formats: unary, binary, decimal, and Roman. In each of these four representation formats, we will learn how to perform the above two operations. You can look at the lecture notes, browse through slides, and also see an animation that can run several examples.\n",
    "\n",
    "1. The Hindu/Arabic System This is also known as the decimal system and is presently in vogue in written communication. The systemused 10 digits 0, 1,2 ··· , 9. For instance three hundred and sixty seven is written as 367. This is a positionalnumber system with the rightmost position having a weight of 1, the next position a weight of 10, and so on.\n",
    "\n",
    "2. The Roman System This is a system using the symbols I, V, X, L, C, and M. This is not a positional system. As an example, 24 is written as XXIV.\n",
    "\n",
    "3. The Unary and the Binary System In the former, the only symbol used is I and a number is represented by writing a number of I′s equal to its value. For example, 7 is written as IIIIIII. It can be noticed that this system is too laborious for large numbers such as those beyond 20 or so.In the latter, two symbols 0 and 1 are used. This is a positional system with weights of 1, 2, 4, and so on. For instance, 55 is written as 110111. The latter is popular because of its use in the present generation computers. \n",
    "\n"
   ]
  },
  {
   "cell_type": "markdown",
   "metadata": {},
   "source": [
    "### Theory"
   ]
  },
  {
   "cell_type": "markdown",
   "metadata": {},
   "source": [
    "1.2.4 Operations on Numbers Let us consider the basic arithmetic operations such as addition and multiplication. In the case of addition using the Hindu system, we have the notion of a carry so that if the sum of any two digits in a position with weight of 10k will create a carry of 1 with a weight of 10 k+1. The same is concept holds true for positional systems such as the binary system, with the only difference being the weights. In the unary system, the addition of numbers x and y will result in a number with x + y I′s.Addition in the Roman system is much more complicated. To add two numbers in the Roman system,one starts by writing the numbers side by side. For example, to add 32 and 53, write XXXII and LIII side by side as XXXII LIII. Then, arrange these letters so that the numerals are in decreasing order. We get:LXXXIIIII. The five Is can be simplified by writing them as V. So we get LXXXV. This process is continued till no simplification is possible. Care has to be taken when adding numbers such as 64, written as LXIV.Similar observations hold in the case of multiplication as multiplication can be treated as repeated addition in its basic form. So one way to multiply Roman numbers is to multiply the larger number by the smaller number. For example, to multiply 123 by 52, we start by writing the numbers as CXXIII and LII. Now, multiply the larger number CXIII by L. This is done by first multiplying by 10, which means promoting the symbols and then duplicating each symbol five times. Simplification can be done to reduce the number to the standard form. Then,multiplication by 2 is simply duplicating each symbol twice. Simplifying, we get the answer. The above reading suggests that the method of number representation does have a bearing on the ease of the operation. Hence, even with simple operations such as addition and multiplication, a better way to organize data helps in performing the operation efficiently. In the rest of this chapter, we will use the decimal/binary system. We will carry forward this lesson to other operations. "
   ]
  },
  {
   "cell_type": "markdown",
   "metadata": {},
   "source": [
    "### Objective"
   ]
  },
  {
   "cell_type": "markdown",
   "metadata": {},
   "source": [
    "Understand the relationship between data representation and data manipulation. as a small practice, implement the operations ADD and MULTIPLY on four different representations. study the time taken for your implementations. "
   ]
  },
  {
   "cell_type": "markdown",
   "metadata": {},
   "source": [
    "### Simulation"
   ]
  },
  {
   "cell_type": "markdown",
   "metadata": {},
   "source": [
    "[Install Prerequisites](http://cse01-iiith.vlabs.ac.in/documents/flash-plugin.pdf)\n",
    "\n",
    "1.[Unary Systems](http://cse01-iiith.vlabs.ac.in/exp1/UnarySystem.html)\n",
    "\n",
    "2.[Roman System](http://cse01-iiith.vlabs.ac.in/exp1/UnarySystem.html)\n",
    "\n",
    "3.[Binary System](http://cse01-iiith.vlabs.ac.in/exp1/UnarySystem.html)"
   ]
  },
  {
   "cell_type": "markdown",
   "metadata": {},
   "source": [
    "### Quizzes"
   ]
  },
  {
   "cell_type": "markdown",
   "metadata": {},
   "source": [
    "Let us now consdier some interesting ways in which the basic experiment can be extended.\n",
    "We have seen four different representation formats for numbers. Each had its own advantages and disadvantages. Consider the following representation formats. It holds from the fundamental theorem of arithmetic that every positive integer at least 1 can be expressed uniquely as the product of prime numbers. How would you add and multiply numbers in this format? Also, think of operations on numbers that are easier in this format than in other formats.\n",
    "Another related representation that is possible is to use the Chinese remainder theorem. The Chinese remainder theorem is a fundamental theorem in number theory. It states that any number can be represented uniquely as the residue of relatively prime numbers. The representation is unique up to the produce of the relative primes chosen. For instance, x = 2 (mod 5), and x = 3 (mod 8), implies that x = 27. How would you implement the operations add and multiply using this representation. Are there operations that are simple in this format than other formats?\n",
    "A related question to think about is to study and implement routines for multiplication in the binary number system that are different from the standard one. By standard, we mean that multiplication is treated as repeated addition. In what circumstances does your routine outperform the standard multiplication routine. Also, study the multiplication operation used in computer hardware at present. To carry our thoughts further, we consider the following questions. Notice that some of these questions may be open, and may not have any published solution.\n",
    "Design a representation format for numbers so that the following operations are all efficient. The operations of interest are : add, multiply, gcd, and mod. (mod refers to integer modulo).\n",
    "Can you design routines where the size of the numbers being handled far exceedes the number sizes that a machine word can handle. Typical number sizes that current machines can handle is about 20-25 digits. However, there are applications which require one to handle numbers of 500 digits or more. How can you support operations on such large numbers? "
   ]
  },
  {
   "cell_type": "markdown",
   "metadata": {},
   "source": [
    "## 2. Expression Evaluation using Stacks"
   ]
  },
  {
   "cell_type": "markdown",
   "metadata": {},
   "source": [
    "### Introduction"
   ]
  },
  {
   "cell_type": "markdown",
   "metadata": {},
   "source": [
    "This experiment guides you using stacks in a practical example. Stacks are an important data structure and finds applications where essentially the data item that is stored latest is what needs to be accessed first. Examples of applications of stakcs in natural settings include a stack of books on a table. Typically, as you pile books on a desk, the book that you can access instantly is the one that you placed at the latest time. A good computing application of stacks is to use it to evaluating arithmetical expressions. In this experiment, we will go through the entire expression evaluation process. The attached notes and the slides describe the technical details. The animation can help you understand the process via several examples. Use these resources to develop code for your own expression evaluator. To add a good interface, you can consider a small web interface where in one can type an expression and ask for it to be evaluated. Think of Google which can do this for most expressions. "
   ]
  },
  {
   "cell_type": "markdown",
   "metadata": {},
   "source": [
    "### Theory"
   ]
  },
  {
   "cell_type": "markdown",
   "metadata": {},
   "source": [
    "1.1 The Stack Data Structure\n",
    "\n",
    "1. The stack data structure is characterized by its last-in-first-out access mechanism. Thus, the element that is added most recently will be the element that is removed first on a remove call. Such an order of addition and deletion of items occurs in several natural settings. Consider for example, a stack of plates in a cafeteria.The first plate that is taken out is the plate that is on the top of the pile. This plate would be the one that is added to the pile most recently.\n",
    "2. Another example could be as follows. We are all used to text editors that allow for undo and redo operations. In such an editor, suppose S is the present text and a word w1 is deleted to get S′. Then a word w2 is deleted. Now, the user wishes to undo some of the changes. To get the correct result, it is possible only if all the operations done after w1 is deleted are also undone. Moreover, these operations must be performed in their reverse order. Thus, we need a mechanism to associate a stored set of items.Irrespective of the implemenation mechanism, the stack data structure has the following basic operations.Let S be a stack.\n",
    "3. create :Create an empty stack.\n",
    "4. push(element) : Pushes the item element to the top of the stack.\n",
    "5. pop() : Returns the item that is most recently pushed.\n",
    "6. size() : Return the size of the stack.\n",
    "\n",
    "1.2 Applications of Stacks\n",
    "1.2.1 Expression Evaluation\n",
    "\n",
    "1. One of the prominent applications of stacks is to expression evaluation. Consider a table calculator which evaluates arithemetic expressions involving addition, multiplication, subtraction, and division. For example,2+3 * 5 - 7 is a valid expression. The result of the above expression is 10 as multiplication has precedenceover addition and subtraction. To disambiguate, one also uses parantesis and write the same expression as 2+ (3*5) - 7. However, it would be quite cumbersome to use parantheses when especially, the precedence is known.Hence, one needs to first convert a given expression into an non-ambiguous model so that evaluation can be done easily. There are three ways to write an expression. The above way of writing expressions is called the infix notation because the operators are placed in between the two operators. There are other ways of writing an expression. In the prefix notation, operators preceede the operands. So the above expression would be written as -+*3 5 2 7. In the postfix notation, the operators are written after the operands. The postfix equivalent way of writing the above expression would be 3 5* 2 + 7 -. It turns out that the postfix and prefix notations are free of ambiguity. We will how that is the case first and then see how to convert a given expression in the infix form to its prefix form.\n",
    "\n",
    "\n",
    "1.2.2 Evaluating a Postfix Expression\n",
    "\n",
    "1. Consider an expression given in the postifix notation. We now see how to evaluate such an expression. For example, ab * c + is a postifix expression. Since the operators follow the operands, it is intuitive to see if the previously available two operands are the corresponding operands for a given operator. This intuition serves well and is correct.So, when processing a postfix expression from left to right, when we encounter an operator, we have to apply the operation to the two most recent operands. This suggests that the operands should be placed on a stack.\n",
    "\n",
    "2.1 The Queue Data Structure\n",
    "\n",
    "1. In the previous section, we have seen a new way of access model to the array can result in good solutions to important applications. A queue is another such data strucure which supports operations such as insert and delete. One can think of analogies to several situations such as a queue at a ticket reservation office, an operating system job queue, or a queue of aeroplanes ready to take off. In all such settings, the element or the object that is first inserted is the first one to come out of the queue also. Thus, the queue is a First-In- First-Out (FIFO) data structure. This suggests that there are two quantities associated with a queue, the front and the rear. The rear indicates the position where the new elements would be added. The front indicates the position from where elements can be deleted from the queue.Formally, a queue is a data structure which supports the following operations.\n",
    "2. & insert: Insert an element to the rear of the queue\n",
    "3. delete: Delete an element from the front of the queue.\n",
    "4. size: Return the size of the queue"
   ]
  },
  {
   "cell_type": "markdown",
   "metadata": {},
   "source": [
    "### Objective"
   ]
  },
  {
   "cell_type": "markdown",
   "metadata": {},
   "source": [
    " At the end of this experiment, you will be able to:\n",
    "\n",
    "* Use stacks to evaluate expressions\n",
    "\n",
    "* Know applications of stacks.\n",
    "\n",
    "* Set up a web based calculator "
   ]
  },
  {
   "cell_type": "markdown",
   "metadata": {},
   "source": [
    "### Simulation"
   ]
  },
  {
   "cell_type": "markdown",
   "metadata": {},
   "source": [
    "[Install prerequisites to run the simulation](http://cse01-iiith.vlabs.ac.in/documents/flash-plugin.pdf)\n",
    "* See how expressions can be evaluated using stacks [Expression Evaluation](http://cse01-iiith.vlabs.ac.in/exp2/calc3.html)"
   ]
  },
  {
   "cell_type": "markdown",
   "metadata": {},
   "source": [
    "### Quizzes"
   ]
  },
  {
   "cell_type": "markdown",
   "metadata": {},
   "source": [
    " Here are some questions that help you understand the stack data structure better.\n",
    "\n",
    "1. Can we also evaluate an infix expression by first converting it into a prefix expression, and then evaluating the prefix expression? Where are the operands for an operator in a prefix expression?\n",
    "\n",
    "2.    In our example so far, we have implemented the stack as an array by restricting the access model to only one index. We will now study other possible implementations of a stack data structure.\n",
    "\n",
    "3.   Study the queue data structure in the notes provided. Design an implementation scheme for a stack using only queue operations.\n",
    "\n",
    "4.    Use a linked list to implement a stack. What are the advantages and disadvantages of this model.\n",
    "\n",
    "5.   Another line of thought is to see how the stack data structure can be useful with small modifications. A peekStack is a data structure that allows one to peek at any element, but pop only the top element. Are there any applications of this facility?\n",
    "\n",
    "6.    Think of your own modification to the stack along with a motivating application(s). "
   ]
  },
  {
   "cell_type": "markdown",
   "metadata": {},
   "source": [
    "# Target Audience"
   ]
  },
  {
   "cell_type": "markdown",
   "metadata": {},
   "source": [
    "The experiments are targeted at students who have just finished a first course in programming. Knowledge of writing programs in any programming language is expected. No prior experience with data structuers is required. "
   ]
  },
  {
   "cell_type": "markdown",
   "metadata": {},
   "source": [
    "# Course Aligned"
   ]
  },
  {
   "cell_type": "markdown",
   "metadata": {},
   "source": [
    "The present lab is aligned with courses such as Introduction to Data Structures, Data Structures in C/C++, and the like. The experiments touch on most topics covered in such courses in most curricula. "
   ]
  },
  {
   "cell_type": "markdown",
   "metadata": {},
   "source": [
    "# Prerequisites"
   ]
  },
  {
   "cell_type": "markdown",
   "metadata": {},
   "source": [
    " Only prior programming experience is required. It is expected that before using these experiments, one can write simple programs.\n",
    " \n",
    " [Click here for steps to install flash plugin](http://cse01-iiith.vlabs.ac.in/installFlash.html)"
   ]
  },
  {
   "cell_type": "markdown",
   "metadata": {},
   "source": [
    "# Feedback"
   ]
  },
  {
   "cell_type": "markdown",
   "metadata": {},
   "source": [
    "[Feedback](http://feedback.vlabs.ac.in/)"
   ]
  }
 ],
 "metadata": {
  "kernelspec": {
   "display_name": "Python 3",
   "language": "python",
   "name": "python3"
  },
  "language_info": {
   "codemirror_mode": {
    "name": "ipython",
    "version": 3
   },
   "file_extension": ".py",
   "mimetype": "text/x-python",
   "name": "python",
   "nbconvert_exporter": "python",
   "pygments_lexer": "ipython3",
   "version": "3.4.3"
  }
 },
 "nbformat": 4,
 "nbformat_minor": 0
}
