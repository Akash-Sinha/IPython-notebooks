{
 "cells": [
  {
   "cell_type": "markdown",
   "metadata": {},
   "source": [
    "# Introduction"
   ]
  },
  {
   "cell_type": "markdown",
   "metadata": {},
   "source": [
    "Welcome to the Chemical Engineering Lab! In this lab, we will do virtual experiments . We will start with Flow measurement by orificemeter and venturimeter, and from then on, the experiments get more interesting. "
   ]
  },
  {
   "cell_type": "markdown",
   "metadata": {},
   "source": [
    "# List of experiments"
   ]
  },
  {
   "cell_type": "markdown",
   "metadata": {},
   "source": [
    "## 1. Flow measurement by orificemeter and venturimeter"
   ]
  },
  {
   "cell_type": "markdown",
   "metadata": {},
   "source": [
    "### Aim"
   ]
  },
  {
   "cell_type": "markdown",
   "metadata": {},
   "source": [
    "   1. To find the coefficient of discharge for venturi meter.\n",
    "\n",
    "   2. To find the coefficient of discharge for orifice meter."
   ]
  },
  {
   "cell_type": "markdown",
   "metadata": {},
   "source": [
    "### Pre Test"
   ]
  },
  {
   "cell_type": "markdown",
   "metadata": {},
   "source": [
    "http://ce-iitb.vlabs.ac.in/exp1/Pre%20Test.html?domain=Chemical%20Engineering&lab=Chemical%20Engineering%20Lab"
   ]
  },
  {
   "cell_type": "markdown",
   "metadata": {},
   "source": [
    "### Theory "
   ]
  },
  {
   "cell_type": "markdown",
   "metadata": {},
   "source": [
    " Flow measurement is the quantification of bulk fluid movement. It is important to know the amount of material entering and exiting the process to control various industrial processes. Different types of meters are used for flow measurement and it is selected based on the applicability of the instrument on a specific problem, installed cost and costs of operation, the range of flow rates, and its accuracy.\n",
    "\n",
    "In the following sections we will be discussing about the venturimeter and orifice meter, vastly used in the industries for flow measurement of liquids and gases.\n",
    "\n",
    "Venturimeter\n",
    "\n",
    "Venturimeter works on the principle of head flowmeter. Venturi tube gradually reduces the flow area, thus creating differential pressure across it. Any changes in fluid flow rate through venture are measured in terms of diffenential pressure across it.\n",
    "\n",
    "It consists of convergent inlet cone (having included angle between, 19 degree to 23 degree), a uniform diameter throat (having length equal to its diameter) and a divergent outlet cone (having included angle between 5 degree to 15 degree).\n",
    "\n",
    "The high pressure tap located on the convergent section while low pressure tap is located at the middle of the throat. The manometer is connected between these taps. "
   ]
  },
  {
   "cell_type": "markdown",
   "metadata": {},
   "source": [
    "### Simulator"
   ]
  },
  {
   "cell_type": "markdown",
   "metadata": {},
   "source": [
    "http://ce-iitb.vlabs.ac.in/exp1/ori/ori1.php"
   ]
  },
  {
   "cell_type": "markdown",
   "metadata": {},
   "source": [
    "### Procedure"
   ]
  },
  {
   "cell_type": "markdown",
   "metadata": {},
   "source": [
    "http://ce-iitb.vlabs.ac.in/exp1/Procedure.html?domain=Chemical%20Engineering&lab=Chemical%20Engineering%20Lab"
   ]
  },
  {
   "cell_type": "markdown",
   "metadata": {},
   "source": [
    "### Post Test"
   ]
  },
  {
   "cell_type": "markdown",
   "metadata": {},
   "source": [
    "http://ce-iitb.vlabs.ac.in/exp1/Post%20Test.html?domain=Chemical%20Engineering&lab=Chemical%20Engineering%20Lab"
   ]
  },
  {
   "cell_type": "markdown",
   "metadata": {},
   "source": [
    "### Review Questions"
   ]
  },
  {
   "cell_type": "markdown",
   "metadata": {},
   "source": [
    "1.    What are different sources of errors in RTD measurement?\n",
    "\n",
    "2.    What is lead wire compensation?"
   ]
  },
  {
   "cell_type": "markdown",
   "metadata": {},
   "source": [
    "### Reference"
   ]
  },
  {
   "cell_type": "markdown",
   "metadata": {},
   "source": [
    " Books:\n",
    "\n",
    "[1] D. Patranabis, “Sensors and Transducers”\n",
    "\n",
    "[2] A. K. Shawney, “A course in Mechanical Measurements and Instrumentation”\n",
    "\n",
    "[3] Bela G. Liptak, “Instrument Engineers' Handbook: Process Measurement and Analysis”\n",
    "\n",
    "[4] Doeblin, “Measurement Systems Applications and Design”\n",
    " \n",
    "Useful links:\n",
    "       \n",
    "1. http://www.sensortecinc.com/docs/technical_resources/RTD_Theory.pdf  \n",
    "\n",
    "2. http://www.tempsensor.net/index.php?name=Sections&req=listarticle&secid=17\n",
    "\n",
    "3. http://www.omega.com/toc_asp/frameset.html?book=Temperature&file=RTD_Gen_Specs_Ref\n",
    "\n",
    " \n",
    "\n",
    " "
   ]
  },
  {
   "cell_type": "markdown",
   "metadata": {},
   "source": [
    "### Feedback"
   ]
  },
  {
   "cell_type": "markdown",
   "metadata": {},
   "source": [
    "http://feedback.vlabs.ac.in/"
   ]
  },
  {
   "cell_type": "markdown",
   "metadata": {},
   "source": [
    "## 2. Gas Liquid Absorption"
   ]
  },
  {
   "cell_type": "markdown",
   "metadata": {},
   "source": [
    "### Aim"
   ]
  },
  {
   "cell_type": "markdown",
   "metadata": {},
   "source": [
    "The object of this experiment is to study gas liquid absorption in an absorption column:-\n",
    "\n",
    "1. The reaction of carbon dioxide when it is contacted with sodium hydroxide solution.\n",
    "2. To compare the performance of a packed column (continuous process) with a bubble column (semi-batch process).\n",
    "3. To observe the effect of different flow rates on the performance of the two columns."
   ]
  },
  {
   "cell_type": "markdown",
   "metadata": {},
   "source": [
    "### Pre Test"
   ]
  },
  {
   "cell_type": "markdown",
   "metadata": {},
   "source": [
    "http://ce-iitb.vlabs.ac.in/exp2/Pre%20Test.html?domain=Chemical%20Engineering&lab=Chemical%20Engineering%20Lab"
   ]
  },
  {
   "cell_type": "markdown",
   "metadata": {},
   "source": [
    "### Theory"
   ]
  },
  {
   "cell_type": "markdown",
   "metadata": {},
   "source": [
    "This exercise deals with the mass transfer operation known as gas absorption in which a soluble gas is absorbed from its mixture with an inert gas by means of a liquid in which the solute gas is more or less soluble.\n",
    "\n",
    " \n",
    "\n",
    "A common apparatus used in gas absorption is packed tower, an example of which is shown in figure (1). The device consists of a cylindrical column, or tower, equipped with a gas inlet and distributing space at the bottom; a liquid inlet and a distributor at top; gas and liquid outlets at the top and bottom respectively; and a supported mass of inert solid shapes, called tower packing.\n",
    "\n",
    " \n",
    "\n",
    "The inlet liquid which may be pure solvent or a dilute solution of some solute (may or may not be same gas) in the solvent is distributed over the top of the packing by distributor and, in ideal operation, uniformly wets the surfaces of the packing. The solute containing gas enters the distributing space below the packing and flows upward through the interstices in the packing counter current to the flow of liquid. The packing provides large area of contact between liquid and gas and encourages intimate contact between phases. At ideal steady state condition, for a specified flow rates of liquid and gas phase, the extent of absorption will not changed with passage of time. In case of absorption in semi-batch process as shown in figure (2), the extent of absorption increases with passage of time as more and more gas is passed through the same liquid.\n",
    "\n",
    " \n",
    "\n",
    "The absorption column in the experimental setup was packed with raschig rings. They provide a large surface area within the volume of the column for the interaction between liquid and gas and also enhance the contact time between liquid and gas. The liquid phase is preferably sodium hydroxide solution of known concentration (not more than 2 N), enters from the top and the mixture of carbon dioxide and air (inert solvent for gaseous phase), enters from the bottom of the column. Thus we have counter-current flow column.NaOH is passed in excess of the theoretical requirement in the column.\n",
    "\n",
    "The reaction which takes place in absorption column and the bubbling pot is:\n",
    "\n",
    "\n",
    "When the samples from the absorption column and bubbling pot are titrated with HCl, first end-point is obtained using a Phenolphthalein indicator.\n",
    "\n",
    "\n",
    "\n",
    "Moles of bicarbonate ion are equal to the moles of carbonate ion present. Also, the moles of H+ ion reacted is equal to the sum of moles of OH- and CO32- ions.\n",
    "\n",
    "Second end-point is obtained using the Methyl Orange indicator which helps us in determining the total moles of bicarbonate ion (and hence the carbonate ions) present.\n",
    "\n",
    "\n",
    "\n",
    " \n",
    "\n"
   ]
  },
  {
   "cell_type": "markdown",
   "metadata": {},
   "source": [
    "### Simulator"
   ]
  },
  {
   "cell_type": "markdown",
   "metadata": {},
   "source": [
    "http://ce-iitb.vlabs.ac.in/exp2/gla/gla1.php"
   ]
  },
  {
   "cell_type": "markdown",
   "metadata": {},
   "source": [
    "### Procedure"
   ]
  },
  {
   "cell_type": "markdown",
   "metadata": {},
   "source": [
    "1) Prepare 20 liter of 1N NaOH solution in a feed tank.\n",
    "\n",
    "2) Check the concentration of the feed solution by titration against 0.1 N HCl.\n",
    "\n",
    "3) Fill the bubbling pot with 3 liters of above prepared solution.\n",
    "\n",
    "4) Check the concentration of the bubbling pot solution by titration against 0.1N HCl.\n",
    "\n",
    "5) Set the flow rate of NaOH solution to 10 L/H.(you can set any point from slider)\n",
    "\n",
    "6) Set the flow rate of carbon dioxide gas to 90 L/H. (you can set any point from slider)\n",
    "\n",
    "7) Set the flow rate of air to 30 L/H.\n",
    "\n",
    "8) Take sample at 10, 20, 30 minutes from column outlet and bubbling pot outlet.\n",
    "\n",
    "9) Titrate the sample collected, using phenolphthalein indicator against 0.1N HCl.\n",
    "\n",
    "10) Titrate the same sample, using methyl orange indicator against 0.1 N HCl\n",
    "\n",
    "11) Calculate the balance on NaOH and CO2.\n"
   ]
  },
  {
   "cell_type": "markdown",
   "metadata": {},
   "source": [
    "### Reference"
   ]
  },
  {
   "cell_type": "markdown",
   "metadata": {},
   "source": [
    "Books: \n",
    "    \n",
    "1. Treybal, R.E., 1980. Mass-transfer operations, McGraw-Hill.\n",
    "\n",
    "2. McCabe, W.L., Smith, J.C. & Harriott, P., 2005. Unit operations of chemical engineering, McGraw-Hill. "
   ]
  },
  {
   "cell_type": "markdown",
   "metadata": {},
   "source": [
    "### FAQ"
   ]
  },
  {
   "cell_type": "markdown",
   "metadata": {},
   "source": [
    "Q1. Why packing is required in absorption?\n",
    "\n",
    "A Packing in absorption column enhances the contact surface between two phases. Also it results in increase in gas pressure drop.\n",
    "\n",
    "Q2.How the extent of absorption varies with variation in flow rate of gas?\n",
    "\n",
    "A Increase in gas flow rate results increase in absorption but there is an upper limit. This limit is called flooding in which part of liquid phase move upwards due to high pressure of gaseous phase and hence decrease in absorption.\n",
    "\n",
    "Q3.What are the two major types of packing? Which one is more frequently used and why?\n",
    "\n",
    "APackings are of two major types, random and regular.\n",
    "\n",
    "Random packings are simply dumped into the tower during installation and allowed to fall at random. It offers larger specific surfaces (and larger gas-pressure drop) in the smaller sizes, but they cost less per unit volume in the larger sizes.\n",
    "\n",
    "Regular packing is done by stacking the packing materials in regular manner. It offers the advantage of low pressure drop for the gas and greater possible fluid flow rates, usually at the expense of more costly installation than random packing.\n",
    "\n",
    "Random packing is more frequently used than regular packing because of its easy low cost installation.\n",
    "\n",
    "Q4. Why the temperature of column raised during absorption process?\n",
    "\n",
    "AAbsorption is an exothermic process.\n"
   ]
  },
  {
   "cell_type": "markdown",
   "metadata": {},
   "source": [
    "### Feedback"
   ]
  },
  {
   "cell_type": "markdown",
   "metadata": {},
   "source": [
    "http://feedback.vlabs.ac.in/"
   ]
  }
 ],
 "metadata": {
  "kernelspec": {
   "display_name": "Python 3",
   "language": "python",
   "name": "python3"
  },
  "language_info": {
   "codemirror_mode": {
    "name": "ipython",
    "version": 3
   },
   "file_extension": ".py",
   "mimetype": "text/x-python",
   "name": "python",
   "nbconvert_exporter": "python",
   "pygments_lexer": "ipython3",
   "version": "3.4.3"
  }
 },
 "nbformat": 4,
 "nbformat_minor": 0
}
