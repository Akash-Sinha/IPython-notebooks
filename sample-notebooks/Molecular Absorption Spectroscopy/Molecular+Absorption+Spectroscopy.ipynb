{
 "cells": [
  {
   "cell_type": "markdown",
   "metadata": {},
   "source": [
    "**Table of Contents**\n",
    "* [1.Introdution](#1.Introdution)\n",
    "* [2.Experiments](#2.Experiments)\n",
    " * 2.1.<a href='/user/raghu/notebooks/Familiarization%20with%20the%20UV-Visible%20Absorption%20Spectroscopy.ipynb'>Familiarization with the UV-Visible Absorption Spectroscopy</a>\n",
    "\n",
    "* [3.Target Audience](#3.Target-Audience)\n",
    "* [4.Objective](#4.Objective)\n",
    "* [5.Courses Aligned](#5.Courses-Aligned)\n",
    "* [6.Prerequisite S/W](#6.Prerequisite-S/W)\n",
    "* [7.Acknowledgement](#7.Acknowledgement)\n",
    "* [8.Feedback](#8.Feedback)"
   ]
  },
  {
   "cell_type": "markdown",
   "metadata": {},
   "source": [
    "# 1.Introdution"
   ]
  },
  {
   "cell_type": "markdown",
   "metadata": {},
   "source": [
    " This lab is about molecular absorption spectroscopy. Spectroscopy is an essential tool for physical scientists and is included in many UG and PG curricula. Spectroscopy uses the absorption, emission, or scattering of electromagnetic radiation by atoms, molecules or their ions, is employed to study these species and many physical processes. Various kinds of molecular spectroscopic techniques, such as UV-Vis (absorption) spectroscopy, fluorescence (emission) spectrometry, CD/ORD spectroscopy, infrared spectroscopy, Raman spectroscopy, NMR spectroscopy, mass spectrometry etc. are used. All methods except mass spectrometry are based on electronic radiation. Depending on the wavelength of interaction, we get information about different parts of molecules, for example, UV-Vis and Fluorescence spectroscopies --- \" electronic structure \", Infrared and Raman spectroscopies --- \" vibrations and/or rotations \" , CD/ORD spectroscopy --- \" chirality \", etc. Absorption spectroscopy involves the transfer of energy from the radiation field to the atom or molecule. In other words, it involves the measurement of the wavelength and intensity of absorption of light by a sample.\n",
    "\n",
    "UV-visible absorption spectroscopy is used in identifications of many types of organic and inorganics molecules and ions, quantitative determinations of many biological, organic, and inorganic species, determinations of equilibrium constants, determinations of stoichiometry of chemical reactions, monitoring of reaction rates, etc.\n",
    "\n",
    "** Terms: **\n",
    "\n",
    "**Wavelength (λ):** Crest-to-crest distance between waves.\n",
    "\n",
    "**Frequency (ν):** Number of complete oscillations that the wave makes each second (units: number of oscillations/sec or s-1 or Hertz (Hz).\n",
    "\n",
    "**Light speed: in vacuum:** c = 2.998 x 108 m s-1\n",
    "in other media: c/n (n = refractive index, generally > 1; n = 1 for vacuum,\n",
    "n= 1.0002926 in air).\n",
    "\n",
    "c/n = ν λ\n",
    "\n",
    "The relationship between energy and frequency is given as follows:\n",
    "\n",
    "E = hν = hc/λ = hcῡ\n",
    "\n",
    "h = Planck’s constant (6.626 x 10-34 J s and ῡ= wavenumber (most common unit is cm-1)\n",
    "Energy is proportional to the frequency or wavenumber but inversely proportional to the wavelength.\n",
    "\n",
    "**Spectrum:** A plot of intensity vs. frequency, wavelength or wavenumber.\n",
    "We see often the UV/Vis spectra as spectral bands in polar solvents like water. One can observe electronic fine structure in some solvents or vibrational transitions in gas phase spectra. "
   ]
  },
  {
   "cell_type": "markdown",
   "metadata": {},
   "source": [
    "<img src=\"files/Picture1.jpg\">"
   ]
  },
  {
   "cell_type": "markdown",
   "metadata": {},
   "source": [
    " Photons of electromagnetic radiation of different energies (frequencies or wavelengths) interact with molecules in a variety of ways:\n",
    "\n",
    "1.    X-rays can excite and eject inner shell electrons, causing ionization and bond fragmentation.\n",
    "2.    Ultraviolet (UV) radiation causes high energy electronic transitions and visible radiation induces low energy electronic transitions in molecules. The resulting excited states may relax via bond breakage or various radiative and non-radiative pathways.\n",
    "3.    Infrared (IR) radiation causes vibrations in molecular bonds, such as bond stretching, bond bending etc. Therefore, IR spectroscopy is often called vibrational spectroscopy.\n",
    "4.    Microwaves can cause the molecules to rotate in the gas phase. This is the subject matter of microwave or rotational spectroscopy.\n",
    "5.    Radio waves can induce resonance of atomic nuclei rotation in a strong magnetic field. This is the subject of nuclear magnetic resonance (NMR) spectroscopy.\n",
    "\n",
    "**Chromophores:** Functional groups that participate in electronic transitions.\n",
    "\n",
    "**Auxochromes:** Substituents with unshared pair of electrons (e.g., -OH, -NH2, -SH, etc.). When such substituents are attached to π bond containing chromophores, they generally move the absorption max. (λmax) to longer wavelength, λ.\n",
    "\n",
    "**Bathochromic Shift (Red shift):** A shift of λmax to longer wavelength, λ (lower energy).\n",
    "\n",
    "**Hypsochromic Shift (Blue shift):** A shift of λmax to shorter wavelength, λ (higher energy).\n",
    "\n",
    "**Hyperchromism:** An increase in intensity of a spectral band.\n",
    "\n",
    "**Hypochromism:** A decrease in intensity of a spectral band.\n",
    "\n",
    "In Absorption Spectroscopy (UV-Visible), Hyperchromic shift means an increase in Absorbance (extinction coefficient, ε) and Hypochromic shift means a decrease in Absorbance (extinction coefficient, ε).\n",
    "\n",
    "**Relevant Topics Properties of light;** Molecular electronic structures; Interaction of photons with molecules; Electronic transitions, Beer-Lambert law. "
   ]
  },
  {
   "cell_type": "markdown",
   "metadata": {},
   "source": [
    "# 2.Experiments"
   ]
  },
  {
   "cell_type": "markdown",
   "metadata": {},
   "source": [
    "2.1.<a href='/user/raghu/notebooks/Familiarization%20with%20the%20UV-Visible%20Absorption%20Spectroscopy.ipynb'>Familiarization with the UV-Visible Absorption Spectroscopy</a>\n"
   ]
  },
  {
   "cell_type": "markdown",
   "metadata": {},
   "source": [
    "# 3.Target Audience"
   ]
  },
  {
   "cell_type": "markdown",
   "metadata": {},
   "source": [
    "\n",
    "\n",
    "*    UG\n",
    "       * Engineering Chemistry 1st year B. Tech. in Chemical / Materials / IT / Civil / Mech. / Electrical / Textile / Agricultural Engg....\n",
    "       - B. Pharm., Biotech., Biomed. Engg.\n",
    "       - B. Sc. (Hons.) in Chemistry/Phys./Biol./Biophys.\n",
    "*    PG\n",
    "       - Chemistry, Chemical/Materials/Biomedical Engg., Biotech & Pharm.\n",
    "       - Ph. D. Beginners\n",
    "\n"
   ]
  },
  {
   "cell_type": "markdown",
   "metadata": {},
   "source": [
    "# 4.Objective "
   ]
  },
  {
   "cell_type": "markdown",
   "metadata": {},
   "source": [
    "This lab aims at demonstrating how to design absorption measurements in a spectrophotometer and how to use absorption spectroscopy as an analytical tool. "
   ]
  },
  {
   "cell_type": "markdown",
   "metadata": {},
   "source": [
    "# 5.Courses Aligned"
   ]
  },
  {
   "cell_type": "markdown",
   "metadata": {},
   "source": [
    "Physical and Analytical Chemistry of molecular absorption spectroscopy and their applications.\n"
   ]
  },
  {
   "cell_type": "markdown",
   "metadata": {},
   "source": [
    "# 6.Prerequisite S/W "
   ]
  },
  {
   "cell_type": "markdown",
   "metadata": {},
   "source": [
    "[Click here for steps to install Flash plugin](http://mas-iiith.vlabs.ac.in/documents/installFlash.html)"
   ]
  },
  {
   "cell_type": "markdown",
   "metadata": {},
   "source": [
    "# 7.Acknowledgement "
   ]
  },
  {
   "cell_type": "markdown",
   "metadata": {},
   "source": [
    "We acknowledge the efforts of the members of the development team:\n",
    "\n",
    "   * Sourav Chatterjee\n",
    "   * Rakesh Sengupta\n",
    "   * Swarnabha Sen\n",
    "   * S P Mohanty\n",
    "   * Meet Shah\n",
    "   * Harshit Daga\n",
    "   * Shantanu Rai\n",
    "   * Tushant Jha\n",
    "   * Pallav Tinna\n",
    "\n",
    "Lab Developers: **Dr. Tapan Kumar Sau**\n",
    "Click [here](http://faculty.iiit.ac.in/~tapan.sau/) to visit the my webpage."
   ]
  },
  {
   "cell_type": "markdown",
   "metadata": {},
   "source": [
    "# 8.Feedback"
   ]
  },
  {
   "cell_type": "markdown",
   "metadata": {},
   "source": [
    "[Feedback](http://feedback.vlabs.ac.in/)"
   ]
  }
 ],
 "metadata": {
  "anaconda-cloud": {},
  "kernelspec": {
   "display_name": "Python 3",
   "language": "python",
   "name": "python3"
  },
  "language_info": {
   "codemirror_mode": {
    "name": "ipython",
    "version": 3
   },
   "file_extension": ".py",
   "mimetype": "text/x-python",
   "name": "python",
   "nbconvert_exporter": "python",
   "pygments_lexer": "ipython3",
   "version": "3.4.3"
  }
 },
 "nbformat": 4,
 "nbformat_minor": 0
}
