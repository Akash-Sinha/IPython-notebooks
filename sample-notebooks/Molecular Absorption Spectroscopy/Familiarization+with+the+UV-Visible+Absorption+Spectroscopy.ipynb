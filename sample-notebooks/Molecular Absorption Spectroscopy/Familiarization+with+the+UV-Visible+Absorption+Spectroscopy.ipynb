{
 "cells": [
  {
   "cell_type": "markdown",
   "metadata": {},
   "source": [
    "# Familiarization with the UV-Visible Absorption Spectroscopy"
   ]
  },
  {
   "cell_type": "markdown",
   "metadata": {},
   "source": [
    "**Table of Contents**\n",
    "* [1.Introduction](#1.Introduction)\n",
    "* [2.Objective](#2.Objective)\n",
    "* [3.Theory](#3.Theory)\n",
    "* [4.Procedure](#4.Procedure)\n",
    "* [5.Simulator](#5.Simulator)\n",
    "* [6.Quiz](#6.Quiz)\n",
    "* [7.References](#7.References)\n",
    "* [8.Feedback](#8.Feedback)"
   ]
  },
  {
   "cell_type": "markdown",
   "metadata": {},
   "source": [
    "# 1.Introduction"
   ]
  },
  {
   "cell_type": "markdown",
   "metadata": {},
   "source": [
    "Originally spectrum referred to the dispersion of visible light according to its wavelength by a prism. In modern science spectroscopy refers to the study of the interaction between matter (viz., atoms, molecules, ions, and solids) and electromagnetic radiation as a function of the radiation energy (often expressed in terms of frequency or wavelength of radiation). When light passes through a medium, some of the light energy may be absorbed, in addition to other processes such as scattering, surface reflectance, etc. If there is a fractional absorption of radiation (energy) and the rest of the radiation passes through the medium, then the medium is called a transparent medium to that particular transmitting radiation. When a portion of the radiation is absorbed from a passing continuous radiation through a transparent substance, the absorbed wavelengths remain absent from the residual emerging radiation spectrum. Thus an analysis of the transmitting radiation produces an absorption spectrum. Spectrophotometers are devices used to measure the wavelength distribution of absorbed or transmitted light. In UV-Visible absorption spectroscopy, samples absorb ultra-violet or visible radiations. UV-Visible absorption spectroscopy provides useful qualitative and quantitative information regarding solid, liquid and gaseous samples and many physical and chemical processes that occur in these samples."
   ]
  },
  {
   "cell_type": "markdown",
   "metadata": {},
   "source": [
    "# 2.Objective"
   ]
  },
  {
   "cell_type": "markdown",
   "metadata": {},
   "source": [
    "** To understand:**\n",
    "\n",
    "1.    the principles of UV-visible absorption spectroscopy: Electronic excitation/transition and light absorption and the origin of colour and complementary colour in the absorbing substance.\n",
    "2.    the working principles of UV-visible spectrophotometer: Instrumentation; and\n",
    "3.    the measurement of absorbance (or transmittance) a coloured substance in a solution by using a spectrophotometer. "
   ]
  },
  {
   "cell_type": "markdown",
   "metadata": {},
   "source": [
    "# 3.Theory"
   ]
  },
  {
   "cell_type": "markdown",
   "metadata": {},
   "source": [
    "Color is an important property of many substances. We can recognize metallic gold by its shiny orange-yellow color. Interaction of light or electromagnetic radiation with matters results in scattering, absorption, reflection, diffraction, etc. of the electromagnetic radiation. These effects can give rise to the color in the substance. If some light is absorbed and the rest is transmitted through a substance, the substance is called a transparent medium with respect to the transmitted radiation. In opaque medium almost all the light is reflected. When all colors of light are present white color is produced. On the other hand, when all colors of light are absent (subtracted, filtered out or absorbed), black color is produced. One can note that the whole visible spectrum can be divided into three main regions of colors: Red, Green, and Blue (see Figure 1 below). Further it is noted that in this spectrum, where two colors combine produce another color such as yellow color by the red and green and cyan color by the green and blue combinations. Similarly, blue-red mixing produces magenta color. The colors produced by mixing two colors is said to be complementary to the color that was not used to make it. For example, out of red, green and blue colors, the combination of red and green produces yellow color (blue has not been used) and therefore complementary color of blue is yellow. A pair of colors which combines to produce white light is called complementary colors, because together they complete the spectrum. We have seen earlier that the complete visible spectrum can be mainly divided into 3 main regions of colors: Red, Green, and Blue (see Figure 1 below), each region of color contributing approximately one-third (1/3) of the spectrum. Therefore, when red and green colors of light combine to produce yellow color, two-third (1/3 from red + 1/3 from green) of the whole visible spectrum is used and only one-third (from blue region) is left. Therefore addition of this 1/3 blue region to the 2/3 of the yellow color (1/3 from red + 1/3 from green) completes the whole spectrum. Thus, blue is the complementary color of yellow and vice versa."
   ]
  },
  {
   "cell_type": "markdown",
   "metadata": {
    "collapsed": true
   },
   "source": [
    "<img src=\"files/Picture2.jpg\">"
   ]
  },
  {
   "cell_type": "markdown",
   "metadata": {},
   "source": [
    " **Figure 1.** a) Main three regions of visible spectrum. b) Three major colors additively combine to produce various colors (in the absence of white background) and white light. (c) Complementary colors. Opposite triangles correspond to the complementary colors. Any color in a triangle is generated by the combination of the colors on two adjacent triangles. (d) Generation of colors by various subtractive combinations of colors (in the presence of white background).\n",
    "\n",
    "The combination of colors producing other colors and complementary colors are given in the form of color polygon in the following figure. The complementary color of red is cyan and of green is magenta. In most of our practical applications such as painting, photography, printing, fabric dying, etc., colors are generated by the subtractive principles. In such cases, one starts with the white background or with the presence of all lights and subtracts some lights from this white light spectrum and observes the combination of other colors coming out of it. Paints, inks, filters, etc. are used to subtract some of the light. In order to understand the color generation by the subtractive mixture principle, we consider the following example. Let us put some ink on a piece of paper. The piece of paper has a white background due to the reflectance of almost all the colors of visible light. The ink will subtract (absorb) some light from this spectrum and will allow reflectance of the rest of the light. Now if we assume that the ink subtracts (absorbs) the yellow color (a combination of red and green color regions), then the red and green colors are absent from the spectrum and mainly blue region of the spectrum is reflected. Therefore the ink will appear blue in color. Similarly a yellow ink reflects red and green light and absorbs blue light. A color subtracts its complementary color. Let us see the following example of a transparent solution. In the following Figure 2, mainly green light is absorbed and its complementary color, magenta, is observed to be the color of the solution.\n",
    "\n"
   ]
  },
  {
   "cell_type": "markdown",
   "metadata": {},
   "source": [
    "<img src=\"files/Picture3.jpg\">"
   ]
  },
  {
   "cell_type": "markdown",
   "metadata": {},
   "source": [
    " **Figure 2.** Light absorption and color generation in a solution.\n",
    "\n",
    "Absorption of light energy involves a transfer of energy from the radiation field to the absorber resulting in transition of the absorber from a lower to a higher energy level. Absorption of the UV-visible light may lead to excitation of electrons from one energy level to another (subject to other conditions). The study of the electronic transitions under UV-visible light excitation is known as UV-visible absorption spectroscopy. In a molecule, the energy spacing between the ground and excited electronic energy states is determined by the bonding strength between the nuclei and the electrons. Therefore, the characteristic energy of a transition and the wavelength of radiation absorbed are properties of a group of atoms. The group of atoms causing such absorption is called a chromophore. Substituents with unshared pair e's like OH, NH, SH, etc. when attached to a π chromophore generally move the absorption maximum to longer wavelength. These substituents are called auxochromes. Substituents may have any of the following four effects on a chromophore: (i) Bathochromic shift (red shift) – a shift to longer wavelength (λ) or lower energy. (ii) Hypsochromic shift (blue shift) – shift to shorter λ or higher energy. (iii) Hyperchromic effect – an increase in absorbance (intensity) of a band. (iv) Hypochromism: decrease in absorbance (intensity) of a band. Different substances absorb different wavelengths of light. Therefore, the wavelength of maximum absorption by a substance is one of the characteristic properties of that substance.\n",
    "\n",
    "The most probable transition often occurs from the highest occupied molecular orbital (HOMO) to the lowest unoccupied molecular orbital (LUMO). In polyatomic molecules, it is convenient to classify the electronic transitions by specifying the initial and final orbitals. For example, if an electronic transition occurs from a bonding pi (π) orbital to antibonding pi orbital (π∗), we call it a π→π∗ transition and similarly for a transition from nonbonding orbital (n) to an antibonding pi orbital (π*) is known as n→π∗ transition. The following Figure 3 schematically shows some such transitions "
   ]
  },
  {
   "cell_type": "markdown",
   "metadata": {},
   "source": [
    "<img src=\"files/Picture4.jpg\">"
   ]
  },
  {
   "cell_type": "markdown",
   "metadata": {},
   "source": [
    " **Figure 3.** Typical electronic transitions and light absorptions.\n",
    "\n",
    "In the cases of atoms, such transitions should result in very narrow absorbance spectral bands at wavelengths characteristic of the difference in involved energy levels of the absorbing species. However, broad spectral bands are often observed in the cases of molecules. Since electronic energy is more than the vibrational and rotational energies, vibrational and rotational energy levels are superimposed on the electronic energy levels. Therefore, any electronic transition may be associated with many vibrational and rotational transitions (subject to some conditions) with different energies giving rise to broadened bands (see the Figure 4 below). The solvent-solute interactions also broaden the spectral band. "
   ]
  },
  {
   "cell_type": "markdown",
   "metadata": {},
   "source": [
    "<img src=\"files/Picture6.jpg\">"
   ]
  },
  {
   "cell_type": "markdown",
   "metadata": {},
   "source": [
    " **Figure 4.**Electronic transitions in molecules and origin of UV-visible spectral band. S stands for singlet electronic energy state.\n",
    "\n",
    "Charge-transfer transition is another type of electronic transition that is responsible for the intense color of many transition metal complexes and inorganic pigments. In charge transfer transitions, an electron transfers from the d orbitals of the metal to one of the vacant orbitals in ligands or υice υersa. For example, an electron transfer from an O atom to the Mn atom causes the intense purple color of aqueous permanganate ion, MnO4−.\n",
    "\n",
    "A typical UV-visible spectrophotometer should have the following design components: a light source (that generates light at a specific wavelength or wavelengths), a dispersion device (causes different wavelengths of light to be dispersed at different angles), sample chamber, and one or more detector(s). VU-visible spectrophotometers may have two light sources: one for the UV range (e.g. a deuterium arc lamp) and the other for the visible range (e.g., tungsten-halogen lamp).\n",
    "\n",
    "The dispersion device disperses source light into a \"rainbow\" of wavelengths (i.e., into different wavelengths of light), which are then directed to the sample. Prisms and holographic gratings are two dispersion devices commonly used in UV-visible spectrophotometers. In a conventional spectrophotometer, the entrance slit and an exit slit surrounding the dispersion device together constitute the monochromator. Light coming out of the monochromator passes through the sample blank and/or sample. The intensity of the transmitted light is measured with a photodetector. Photomultiplier tubes (PMTs) or photodiodes (photodiode array) are commonly used as detectors. The photodetector behind the sample receives the light stimulus and generates an analog electronic current, which is then converted to a usable format and fed into a computer for further analysis. In a conventional spectrophotometer, the spectrum is obtained in a sequential manner, one wavelength after another, as a function of time. In a diode array spectrophotometer, polychromatic light after passing through the sample is focused on the entrance slit of the polychromator. This transmitted light is then dispersed onto the diode array where each diode measures a portion of the spectrum. That is, in a diode array spectrophotometer, the detector sees all of the wavelengths simultaneously.\n",
    "\n",
    "Depending on the light beam, there are two different kinds of spectrophotometers used: single-beam and double-beam spectrophotometers. Single-beam includes both conventional and diode array spectrophotometers where a single light beam is used to illuminate first the sample blank and then the sample separately. A double beam instrument splits the light beam between the reference (sample blank) optical path and sample optical path and compares the light intensity between them. The splitting of the beam is accomplished in two ways. In a static method, a partially transmitting mirror is used that allows the light to be sent to the reference cell and sample cell simultaneously. In some spectrophotometers, a \"chopper\" alternates the light path. Both the spectrophotometers have a few advantages over the other. One expects a better stability of the light source, detectors and associated electronic devices with a double beam instrument. The disadvantages include the precision required in recombining the beams prior to reaching the monochrometer. The quality of the mirrors, other optics and their coatings and the dust buildup on these devices make the double beam instruments somewhat more difficult to maintain than single beam devices. In single beam instrument, only one cuvette holder is present, therefore, two measurements necessary. The sample and the sample blank (reference) are scanned simultaneously in one measurement with a double beam instrument, which has two cell holders. Diode Array spectrophotometer is a multichannel instrument, though requires two measurements, but measurements are very fast (0.1s) and have low resolution.\n",
    "Schematics of a typical double-beam UV-Visible spectrophotometer is shown below in Figure 5."
   ]
  },
  {
   "cell_type": "markdown",
   "metadata": {},
   "source": [
    "<img src=\"files/Picture7.jpg\">"
   ]
  },
  {
   "cell_type": "markdown",
   "metadata": {},
   "source": [
    "**Figure 5.** Schematics of a typical Double-Beam UV-Visible Spectrophotometer.\n",
    "\n",
    "The absorption of light is usually experimentally measured in terms of transmittance (T) or absorbance (A). Transmittance is defined as T = I / I0, where I is the light intensity after it passes through the sample and Io is the initial light intensity. The relation between A and T is:\n",
    "$$A = -log_{10}T = - log_{10} {I \\over I_{0}}$$\n",
    "\n",
    "Modern absorption measurement instruments such as colorimeter and spectrophotometers can usually display the data as transmittance, %-transmittance, or absorbance. In a spectrophotometer, a whole series of wavelengths of light passes through a substance or its solution taken in a cell (sample cell) and through an identical container (reference cell) which only has the solvent in it. The intensity of the light entering the sample and that of the light exiting the sample are compared producing a suitable spectrum. In fact, light attenuation in an absorbance experiment occurs from many processes such as absorbance by the solvent, reflections from the interface between air and the sample, the sample and the cuvette, in addition to the chromophore. These factors are often removed by defining I0 as the light passing through sample \"blank\" or reference sample (\"baseline\" correction). A sample blank or reference sample is the solvent and other substances, if any, excluding the chromophore substance. A variety of sample holders or sample cells are available. The choice of the sample cell is based on a number of factors, such as the path length, shape, size, the transmission characteristics at the wavelength of interest, etc. The cell holding the sample or its blank should be transparent to the wavelength region to be recorded. A quartz or fused silica cuvette is chosen for better UV light transmission. Silicate glass cuvettes can be used for the use between 350 and 2000 nm wavelengths. The cells are generally rectangular with different pathlengths, ranging from 10 mm to 1 mm."
   ]
  },
  {
   "cell_type": "markdown",
   "metadata": {},
   "source": [
    "# 4.Procedure"
   ]
  },
  {
   "cell_type": "markdown",
   "metadata": {},
   "source": [
    "\n",
    "\n",
    "To understand the electronic transition and optical absorption, click on the first Simulator.\n",
    "\n",
    "To see the working of UV-visible spectrophotometer instrument, click on the second Simulator.\n",
    "\n",
    "To know how the measurement of absorbance (or transmittance) a coloured substance in a solution is done by using a spectrophotometer, click on the third Simulator and proceed as follows.\n",
    "\n",
    "1.    Familiarize with the spectrophotometer.\n",
    "2.  Turn on the instrument clicking on the power button and wait for 30 min for initialization of the instrument.\n",
    "3. Prepare following two solutions: a) ~0.001 M of a potassium dichromate (K2Cr2O7) and b) ~5mg/L caffeine in distilled water. Here the solutions are shown on two volumetric flasks. One can select a solution for measurement by clicking on the desired solution from the drop-down menu.\n",
    "4. Click on the beaker to take a clean, dry beaker.\n",
    "5. Click on the volumetric flask to pour the solution into the clean, dry beaker.\n",
    "6. Click on the micropipette to collect appropriate quantity of solution from the beaker. In real operation, one attaches an appropriate tip to the micropipette and sets the scale to the required volume on it prior to dipping it in the solution.\n",
    "7. Take a cuvette by clicking on it.\n",
    "8. Pour the solution from the micropipette into the cuvette by clicking on the cuvette. In actual measurements, the cuvette is filled up to about two-third of its volume.\n",
    "9. Click on the spectrophotometer lid to open it.\n",
    "10. Click on the cuvette to place it in the sample holder. One has to use water as the sample blank or reference in this measurement. Here a double beam spectrophotometer is shown. In this case, one can place the sample in the sample holder (often the front one) and the sample bank or reference in the reference holder (often the back one) simultaneously.\n",
    "11. On the screen, enter the wavelength range of spectral scan.\n",
    "   \n",
    "   For caffeine: Start: 590 nm End: 290 nm.\n",
    "   \n",
    "   For K2Cr2O7: Start: 700 nm End: 325 nm. In real operation, the wavelength range of incident light for the sample is chosen and the wavelength scan is run via the accompanied computer software. One can run the scan in absorbance (A) or transmittance (%T) mode.\n",
    "12. Click on the green ‘Start’ button on the measurement set-up screen to run the wavelength scan. Observe the wavelength scan. If the spectrophotometer is a single beam instrument, then first the sample blank or reference is taken in a cuvette and the wavelength scan is run followed by the sample. One has to subtract the reference data from the sample data for respective wavelengths.\n",
    "13. Click on Close button when spectral scan is complete. In real operation, the scan data are stored in the computer. The instrument stores data and therefore asks for the Sample File name. One enters a file name to save the data.\n",
    "14. Repeat the measurement for another sample.\n",
    "15. Collect data by clicking on the Data tab.\n",
    "16. Plot the absorbance (or transmittance) of the sample vs. wavelength for both the samples and if possible, overlay the spectra of the two samples.\n",
    "17. Determine the wavelengths of maximum absorption for main peaks for both the samples\n",
    "\n"
   ]
  },
  {
   "cell_type": "markdown",
   "metadata": {},
   "source": [
    "# 5.Simulator"
   ]
  },
  {
   "cell_type": "markdown",
   "metadata": {},
   "source": [
    "[Click here to go to study the principle](http://10.4.15.200:8000/user/raghu/notebooks/Principle.ipynb)\n",
    "\n",
    "[Click here to find out how the instrument works](http://10.4.15.200:8000/user/raghu/notebooks/Instrument-animation.ipynb)\n",
    "\n",
    "[Click here to go to lab](http://10.4.15.200:8000/user/raghu/notebooks/Absorption%20and%20transmittation.ipynb)"
   ]
  },
  {
   "cell_type": "markdown",
   "metadata": {},
   "source": [
    "# 6.Quiz"
   ]
  },
  {
   "cell_type": "markdown",
   "metadata": {},
   "source": [
    "\n",
    "**Pre-Experiment**\n",
    "\n",
    "1.    If the intensities of the sample and reference beam are both the same, what is the value of absorbance?\n",
    "2.    What is the % transmission for an absorbance of 1?\n",
    "3.    What is the unit of the absorbance?\n",
    "4.    'HOMO-LUMO electronic transitions are properties of the groups of atoms.' Is the statement true or false?\n",
    "5.    What kinds of electronic transitions are observed in carbonyl compounds?\n",
    "6.    How are the absorbance and transmittance related at the spectral peak position?\n",
    "\n",
    "**Post-Experiment**\n",
    "\n",
    "1.    What kind of cuvettes (glass or quartz) will you use for a wavelength scan spanning the UV-visible range?\n",
    "2.    What do you expect if you run the wavelength scan by mistakenly placing the sample in the reference holder and the sample blank or reference in the sample holder?\n",
    "3.    It is necessary not to touch the cuvette on sides that come across the light path and wipe out gently all the sides with lint free paper. Why?\n",
    "\n",
    " * What does an absorption spectrum of a sample tell about the colour of the sample?\n",
    " * Though caffeine absorbs light, yet it is colourless. Why?\n",
    " * How do the samples look like in following two cases: when absorbance values of the samples are (i) close to zero and (ii) very high in the entire visible range?\n",
    " * Which compound of the two studied here absorbs light of higher energy per photon?\n",
    " * Which colors of light do caffeine and potassium dichromate absorb?\n"
   ]
  },
  {
   "cell_type": "markdown",
   "metadata": {},
   "source": [
    "# 7.References"
   ]
  },
  {
   "cell_type": "markdown",
   "metadata": {},
   "source": [
    "1.    http://www.greatreality.com/ColorAdd.htm\n",
    "2.    “Chemical Analysis: Modern Instrumentation Methods and Techniques”, by Francis Rouessac and Annick Rouessac, Second Edition, John Wiley & Sons Ltd (2007).\n",
    "3.    Across the Spectrum: Instrumentation for UV/Vis Spectrophotometry by Shane Beck, The Scientist 12[3]:20, Feb. 02, 1998.\n",
    "4.    Physical Chemistry by Peter Atkins and Julio De Paula, Publisher: W. H. Freeman & Company (Dec 2009).\n",
    "5.    “Absorption and fluorescent properties of fluorescein” by R. Sjöback, J. Nygren and M. Kubista in journal “Spectrochimica Acta Part A 51 (1995) L7 – L21.”\n",
    "6.    Handbook of Instrumental Techniques for Analytical Chemistry, Frank A. Settle (Editor), Pearson Education Limited (2004).\n",
    "7.    Modern Analytical Chemistry, David Harvey, McGraw-Hill Education (2000).\n",
    "8.    Fundamentals of modern UV-visible spectroscopy, Primer, Tony Owen, Agilent Technologies (2000).\n",
    "\n"
   ]
  },
  {
   "cell_type": "markdown",
   "metadata": {},
   "source": [
    "# 8.Feedback"
   ]
  },
  {
   "cell_type": "markdown",
   "metadata": {},
   "source": [
    "[Feedback](http://feedback.vlabs.ac.in/)"
   ]
  }
 ],
 "metadata": {
  "kernelspec": {
   "display_name": "Python 3",
   "language": "python",
   "name": "python3"
  },
  "language_info": {
   "codemirror_mode": {
    "name": "ipython",
    "version": 3
   },
   "file_extension": ".py",
   "mimetype": "text/x-python",
   "name": "python",
   "nbconvert_exporter": "python",
   "pygments_lexer": "ipython3",
   "version": "3.4.3"
  }
 },
 "nbformat": 4,
 "nbformat_minor": 0
}
